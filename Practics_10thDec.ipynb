{
 "cells": [
  {
   "cell_type": "code",
   "execution_count": 155,
   "id": "4d654257",
   "metadata": {},
   "outputs": [],
   "source": [
    "def datacomiler():\n",
    "    \"This Funcation Will help us to compile all the csv dataset\\\n",
    "    starts with data_ and endswith .csv\"\n",
    "    import pandas as pd\n",
    "    from os import walk\n",
    "    \n",
    "    mypath=\"C:\\\\Users\\\\A1TVCI71\\\\My Python Stuff\"\n",
    "\n",
    "    ##Using for Loop on each element to get the filename then append into a list\n",
    "    \n",
    "#     info=[]\n",
    "#     for (dirpath, dirnames, filenames) in walk(mypath):\n",
    "#         for i in filenames:\n",
    "#             if i[-3:]=='csv' and i[:8]=='dataset_':\n",
    "#                 info.append(i)\n",
    "                \n",
    "       ##Nested List Comprehensions\n",
    "    \n",
    "    info=[filename for a,b,c in walk(mypath) for filename in c if filename[-3:]=='csv' and filename[:8]=='dataset_']            \n",
    "                \n",
    "    finaldf=pd.DataFrame()\n",
    "    \n",
    "    for all in info:\n",
    "        #reading all files into pandas dataframe\n",
    "        df=pd.read_csv(all)\n",
    "        #post reading concate all the temp files into consolidated one \n",
    "        finaldf=pd.concat([finaldf,df],ignore_index=True)\n",
    "        #gerate data for reportings analysis in both format json & csv \n",
    "    finaldf.to_csv('compiled information.csv',index=False)\n",
    "    finaldf.to_json('compiled information.json',orient='records',indent=True)\n",
    "    "
   ]
  },
  {
   "cell_type": "code",
   "execution_count": 156,
   "id": "9317f7bd",
   "metadata": {},
   "outputs": [],
   "source": [
    "datacomiler()"
   ]
  }
 ],
 "metadata": {
  "kernelspec": {
   "display_name": "Python 3 (ipykernel)",
   "language": "python",
   "name": "python3"
  },
  "language_info": {
   "codemirror_mode": {
    "name": "ipython",
    "version": 3
   },
   "file_extension": ".py",
   "mimetype": "text/x-python",
   "name": "python",
   "nbconvert_exporter": "python",
   "pygments_lexer": "ipython3",
   "version": "3.10.9"
  }
 },
 "nbformat": 4,
 "nbformat_minor": 5
}
